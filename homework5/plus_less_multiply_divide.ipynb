{
 "cells": [
  {
   "cell_type": "code",
   "execution_count": 27,
   "metadata": {
    "scrolled": true
   },
   "outputs": [
    {
     "name": "stdout",
     "output_type": "stream",
     "text": [
      "請輸入第一個數:100\n",
      "請再輸入第二個數:5\n",
      "加: 105 減: 95 乘: 500 除: 20.0\n"
     ]
    }
   ],
   "source": [
    "x = int(input(\"請輸入第一個數:\"))\n",
    "y = int(input(\"請再輸入第二個數:\"))\n",
    "def plus(x,y):\n",
    "    return x+y\n",
    "def less(x,y):\n",
    "    return x-y\n",
    "def Multiply(x,y):\n",
    "    return x*y\n",
    "def divide(x,y):\n",
    "    return x/y\n",
    "print(\"加:\",plus(x,y),\"減:\",less(x,y),\"乘:\",Multiply(x,y),\"除:\",divide(x,y))"
   ]
  },
  {
   "cell_type": "code",
   "execution_count": null,
   "metadata": {},
   "outputs": [],
   "source": []
  }
 ],
 "metadata": {
  "kernelspec": {
   "display_name": "Python 3",
   "language": "python",
   "name": "python3"
  },
  "language_info": {
   "codemirror_mode": {
    "name": "ipython",
    "version": 3
   },
   "file_extension": ".py",
   "mimetype": "text/x-python",
   "name": "python",
   "nbconvert_exporter": "python",
   "pygments_lexer": "ipython3",
   "version": "3.6.5"
  }
 },
 "nbformat": 4,
 "nbformat_minor": 2
}
